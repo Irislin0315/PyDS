{
 "cells": [
  {
   "cell_type": "markdown",
   "metadata": {
    "id": "H-z4L8J371GO"
   },
   "source": [
    "## 作業:\n",
    "今天學到不同統計量之間特性，  \n",
    "試著分析男生女生身高資料，  \n",
    "試著回答下面的問題:  \n",
    "Q1:試著用今天所教的內容，如何描述這兩組資料的樣態?    \n",
    "Q2: 請問男生和女生在平均身高上誰比較高?   \n",
    "Q3:請問第二題的答案和日常生活中觀察的一致嗎? 如果不一致，你覺得原因可能為何?    \n",
    "上述問題透過  python 語法進行運算，\n",
    "並將上述答案填寫在 (google 表單)[https://docs.google.com/forms/d/e/1FAIpQLSdDzwpeJl8YLPwZaW8pBZvtuXY9kIbbZLqxcXyzFaoraV5JEA/viewform ]\n",
    "![](作業資料圖檔.PNG)"
   ]
  },
  {
   "cell_type": "code",
   "execution_count": 1,
   "metadata": {
    "id": "yz28_IgkYdBW"
   },
   "outputs": [],
   "source": [
    "import matplotlib.pyplot as plt\n",
    "import numpy as np\n",
    "import pandas as pd\n",
    "from scipy import stats\n",
    "import math\n",
    "import statistics\n",
    "import seaborn as sns"
   ]
  },
  {
   "cell_type": "code",
   "execution_count": 2,
   "metadata": {
    "id": "3NtzuWtt71GU",
    "outputId": "be21c4eb-a6c2-4674-aadd-d378bafc0428"
   },
   "outputs": [],
   "source": [
    "## 輸入資料\n",
    "boy=[164, 176, 169, 169, 165, 175, 159, 151, 144, 160, 183, 165, 156, 170, 164, 173, 165, 163, 177, 171]\n",
    "\n",
    "girl=[169, 183, 170, 168, 182, 170, 173, 185, 151, 156, 162, 169, 162, 181, 159, 154, 167, 175, 170, 160]"
   ]
  },
  {
   "cell_type": "code",
   "execution_count": 3,
   "metadata": {
    "id": "uDM9AzrY71GW",
    "outputId": "f4e7ede3-fda9-4858-f122-af7c3b3f3ad4"
   },
   "outputs": [
    {
     "name": "stdout",
     "output_type": "stream",
     "text": [
      "男生平均: 165.95\n",
      "女生平均: 168.3\n",
      "男生中位數: 165.0\n",
      "女生中位數: 169.0\n",
      "男生標準差: 8.980395314238677\n",
      "女生標準差: 9.51892851112981\n",
      "男生75百分位: 171.5\n",
      "男生50百分位: 165.0\n",
      "男生25百分位: 162.25\n",
      "女生75百分位: 173.5\n",
      "女生50百分位: 169.0\n",
      "女生25百分位: 161.5\n",
      "男生全距: 39\n",
      "女生全距: 34\n"
     ]
    }
   ],
   "source": [
    "#Q1:試著用今天所教的內容，如何描述這兩組資料的樣態?\n",
    "#暗示:  分別計算男生和女生的統計量\n",
    "#平均\n",
    "print(\"男生平均:\", np.mean(boy))\n",
    "print(\"女生平均:\", np.mean(girl))\n",
    "#中位數\n",
    "print(\"男生中位數:\", np.median(boy))\n",
    "print(\"女生中位數:\", np.median(girl))\n",
    "#標準差\n",
    "print(\"男生標準差:\", np.std(boy))\n",
    "print(\"女生標準差:\", np.std(girl))\n",
    "#百分位\n",
    "print(\"男生75百分位:\", np.percentile(boy,75))\n",
    "print(\"男生50百分位:\", np.percentile(boy,50))\n",
    "print(\"男生25百分位:\", np.percentile(boy,25))\n",
    "print(\"女生75百分位:\", np.percentile(girl,75))\n",
    "print(\"女生50百分位:\", np.percentile(girl,50))\n",
    "print(\"女生25百分位:\", np.percentile(girl,25))\n",
    "#全距\n",
    "print(\"男生全距:\", max(boy)-min(boy))\n",
    "print(\"女生全距:\", max(girl)-min(girl))"
   ]
  },
  {
   "cell_type": "code",
   "execution_count": 4,
   "metadata": {},
   "outputs": [
    {
     "name": "stdout",
     "output_type": "stream",
     "text": [
      "男生身高偏度= -0.47132127317376954\n",
      "男生身高峰度= 0.19395882957876331\n",
      "女生身高偏度= 0.05985321129365068\n",
      "女生身高峰度= -0.8203607083948947\n"
     ]
    }
   ],
   "source": [
    "print(\"男生身高偏度=\",stats.skew(boy))\n",
    "print(\"男生身高峰度=\",stats.kurtosis(boy))\n",
    "\n",
    "print(\"女生身高偏度=\",stats.skew(girl))\n",
    "print(\"女生身高峰度=\",stats.kurtosis(girl))"
   ]
  },
  {
   "cell_type": "code",
   "execution_count": 5,
   "metadata": {},
   "outputs": [
    {
     "data": {
      "image/png": "[encoded data removed]",
      "text/plain": [
       "<Figure size 432x288 with 1 Axes>"
      ]
     },
     "metadata": {
      "needs_background": "light"
     },
     "output_type": "display_data"
    }
   ],
   "source": [
    "plt.hist(boy,alpha=.5,bins=40)\n",
    "plt.title('Boys')\n",
    "plt.axvline(x=np.mean(boy), linestyle='--')\n",
    "plt.show()"
   ]
  },
  {
   "cell_type": "code",
   "execution_count": 6,
   "metadata": {},
   "outputs": [
    {
     "data": {
      "image/png": "[encoded data removed]",
      "text/plain": [
       "<Figure size 432x288 with 1 Axes>"
      ]
     },
     "metadata": {
      "needs_background": "light"
     },
     "output_type": "display_data"
    }
   ],
   "source": [
    "plt.hist(girl,alpha=.5,bins=40)\n",
    "plt.title('Girl')\n",
    "plt.axvline(x=np.mean(girl), linestyle='--')\n",
    "plt.show()"
   ]
  },
  {
   "cell_type": "code",
   "execution_count": 7,
   "metadata": {
    "id": "xH_GNsC271GW",
    "outputId": "f4b4c46a-0d8b-421c-9c70-0ebf2aab0e31"
   },
   "outputs": [
    {
     "name": "stdout",
     "output_type": "stream",
     "text": [
      "男生平均: 165.95\n",
      "女生平均: 168.3\n"
     ]
    }
   ],
   "source": [
    "#Q2: 請問男生和女生在平均身高上誰比較高? \n",
    "print(\"男生平均:\", np.mean(boy))\n",
    "print(\"女生平均:\", np.mean(girl))\n",
    "#女生較高"
   ]
  },
  {
   "cell_type": "code",
   "execution_count": null,
   "metadata": {
    "id": "xAzZU0Dv71GX",
    "outputId": "e2017c09-70fc-41ab-99c0-9d41fe21629d"
   },
   "outputs": [],
   "source": [
    "#Q3:請問第二題的答案和日常生活中觀察的一致嗎? 如果不一致，你覺得原因可能為何? \n",
    "不一致 樣本少 此處取樣和母體差異較大 且可能有極端值影響 如原始資料中女生便有4位超過180cm"
   ]
  },
  {
   "cell_type": "code",
   "execution_count": null,
   "metadata": {},
   "outputs": [],
   "source": []
  }
 ],
 "metadata": {
  "colab": {
   "collapsed_sections": [],
   "name": "作業.ipynb",
   "provenance": []
  },
  "kernelspec": {
   "display_name": "Python 3",
   "language": "python",
   "name": "python3"
  },
  "language_info": {
   "codemirror_mode": {
    "name": "ipython",
    "version": 3
   },
   "file_extension": ".py",
   "mimetype": "text/x-python",
   "name": "python",
   "nbconvert_exporter": "python",
   "pygments_lexer": "ipython3",
   "version": "3.6.8"
  }
 },
 "nbformat": 4,
 "nbformat_minor": 1
}
